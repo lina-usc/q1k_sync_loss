{
 "cells": [
  {
   "cell_type": "markdown",
   "metadata": {},
   "source": [
    "# Generate automated session reports for all participants"
   ]
  },
  {
   "cell_type": "code",
   "execution_count": null,
   "metadata": {},
   "outputs": [],
   "source": [
    "import pandas as pd\n",
    "import numpy as np\n",
    "import mne\n",
    "import mne_bids\n",
    "import glob\n",
    "import warnings\n",
    "\n",
    "import re\n",
    "import subprocess\n",
    "\n",
    "import os\n",
    "import papermill as pm\n",
    "warnings.filterwarnings('ignore')\n",
    "\n",
    "from nbconvert import HTMLExporter\n",
    "from nbconvert.preprocessors import ExecutePreprocessor\n",
    "from nbformat import read\n"
   ]
  },
  {
   "cell_type": "markdown",
   "metadata": {
    "tags": []
   },
   "source": [
    "### Select task parameters and file paths"
   ]
  },
  {
   "cell_type": "code",
   "execution_count": null,
   "metadata": {},
   "outputs": [],
   "source": [
    "project_path = \"/project/def-emayada/q1k/experimental/\"\n",
    "pyll_path = \"derivatives/pylossless/\"\n",
    "sync_loss_path = \"derivatives/sync_loss/\"\n",
    "code_path = \"code/q1k_sync_loss/\"\n",
    "out_path = \"\"\n",
    "html_reports_path = \"session_reports/\"\n",
    "task_id = \"TO\"\n",
    "run_id = '1'\n",
    "session_id = '01'\n"
   ]
  },
  {
   "cell_type": "code",
   "execution_count": null,
   "metadata": {},
   "outputs": [],
   "source": [
    "# Sanity check to see which task you would like to make reports for \n",
    "print(task_id)"
   ]
  },
  {
   "cell_type": "code",
   "execution_count": null,
   "metadata": {},
   "outputs": [],
   "source": [
    "# Generate list of session reports already processed so they are not processed again in next step\n",
    "processed_sessions = []\n",
    "\n",
    "for subject in glob.glob(project_path + pyll_path + sync_loss_path + code_path + html_reports_path + task_id + \"/*.html\"): \n",
    "    html_file = subject.split('/')[-1]\n",
    "    processed_sessions.append(html_file.split('_')[:1])\n",
    "    print(subject)\n",
    "\n",
    "print('Existing session reports:')\n",
    "processed_sessions \n",
    "\n",
    "pattern = project_path + pyll_path + '**/eeg/*' + task_id + '*.edf'\n",
    "file_paths = glob.glob(pattern, recursive=True)\n"
   ]
  },
  {
   "cell_type": "code",
   "execution_count": null,
   "metadata": {},
   "outputs": [],
   "source": [
    "# Function to extract details from filename\n",
    "def extract_job_info(filename):\n",
    "    # Define the pattern to capture the required sections\n",
    "    pattern = r\"sub-(.*?)_ses-(.*?)_task-(.*?)_run-(.*?)_eeg\\.edf\"\n",
    "    match = re.match(pattern, filename)\n",
    "\n",
    "    if match:\n",
    "        # Extract the groups from the match\n",
    "        subject_id = match.group(1)\n",
    "        session_id = match.group(2)\n",
    "        task_id = match.group(3)\n",
    "        run_id = match.group(4)\n",
    "        return subject_id, session_id, task_id, run_id\n",
    "    else:\n",
    "        raise ValueError(\"Filename pattern did not match.\")\n"
   ]
  },
  {
   "cell_type": "markdown",
   "metadata": {},
   "source": [
    "## Generate html session reports for all participants"
   ]
  },
  {
   "cell_type": "code",
   "execution_count": null,
   "metadata": {},
   "outputs": [],
   "source": [
    "#glob.glob(project_path + pyll_path + '**/*.edf')"
   ]
  },
  {
   "cell_type": "code",
   "execution_count": null,
   "metadata": {},
   "outputs": [],
   "source": [
    "# Make sure the output directory exists\n",
    "if not os.path.exists(html_reports_path):\n",
    "    os.makedirs(html_reports_path)\n",
    "\n",
    "# Create a list of sessions with errors\n",
    "error_subjects = []\n",
    "\n",
    "#Loop through existing sessions and execute the q1k_generate_individual_reports.ipynb if a session report does not already exist\n",
    "for file in file_paths:\n",
    "\n",
    "    file_name = os.path.basename(file)\n",
    "    print('Current data file: ' + file_name)\n",
    "    ## Select anything after the Q1K and before the AEP\n",
    "    subject_id = file_name.split(\"_\")[0].split(\"-\")[1]\n",
    "    print('Participant ID: ' + subject_id)\n",
    "\n",
    "    # Skip sessions that have a session report in the output directory\n",
    "    print(subject_id)\n",
    "    if any(subject_id in session for session in processed_sessions):\n",
    "        print(subject_id + ' has already been processed')\n",
    "        continue    \n",
    "\n",
    "    # Define paths\n",
    "    input_notebook = project_path + pyll_path + sync_loss_path + 'code/q1k_sync_loss/' + 'q1k_sync_loss.ipynb'\n",
    "\n",
    "    # Make sure the directory exists\n",
    "    if not os.path.exists(f'{project_path}{pyll_path}{sync_loss_path}{code_path}{html_reports_path}{task_id}/executed_notebooks/'):\n",
    "        os.makedirs(f'{project_path}{pyll_path}{sync_loss_path}{code_path}{html_reports_path}{task_id}/executed_notebooks/')\n",
    "\n",
    "    output_notebook = f'{project_path}{pyll_path}{sync_loss_path}{code_path}{html_reports_path}{task_id}/executed_notebooks/{subject_id}_{task_id}_executed.ipynb'\n",
    "    print('Output notebook file: ' + output_notebook)\n",
    "    output_html = f'{project_path}{pyll_path}{sync_loss_path}{code_path}{html_reports_path}{task_id}/{subject_id}_{task_id}.html'\n",
    "    print('Output HTML file: ' + output_html)\n",
    "\n",
    "    try:\n",
    "        # Execute the notebook\n",
    "        pm.execute_notebook(input_notebook, output_notebook, kernel_name = 'q1k_env', parameters=dict(subject_id=subject_id, task_id=task_id, run_id=run_id, session_id=session_id))\n",
    "\n",
    "        # Convert executed notebook to HTML\n",
    "        html_exporter = HTMLExporter()\n",
    "        html_exporter.exclude_input = True\n",
    "\n",
    "        (body, resources) = html_exporter.from_filename(output_notebook)\n",
    "\n",
    "        # Save HTML output\n",
    "        with open(output_html, 'w', encoding='utf-8') as f:\n",
    "            f.write(body)\n",
    "\n",
    "        print(f\"HTML report saved for {subject_id}.\")\n",
    "    \n",
    "\n",
    "    except Exception as e:\n",
    "        # Handle the error \n",
    "        error_subjects.append(subject_id)\n",
    "        print(f\"Error while processing {subject_id}: {e}\")\n",
    "\n",
    "# Print out the list of subjects with errors\n",
    "print( \"These subjects have errors: \" + str(error_subjects) + \" and need to be reprocessed\")"
   ]
  }
 ],
 "metadata": {
  "kernelspec": {
   "display_name": "q1k_env",
   "language": "python",
   "name": "q1k_env"
  },
  "language_info": {
   "codemirror_mode": {
    "name": "ipython",
    "version": 3
   },
   "file_extension": ".py",
   "mimetype": "text/x-python",
   "name": "python",
   "nbconvert_exporter": "python",
   "pygments_lexer": "ipython3",
   "version": "3.11.5"
  }
 },
 "nbformat": 4,
 "nbformat_minor": 4
}
