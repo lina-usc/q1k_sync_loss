{
 "cells": [
  {
   "cell_type": "markdown",
   "id": "793c3da2-34a6-4fce-a4d7-a6bcbe92219f",
   "metadata": {},
   "source": [
    "# Single Subject Segmentation Q1K"
   ]
  },
  {
   "cell_type": "code",
   "execution_count": null,
   "id": "1112aca4-41d1-4c95-b9c6-29f605655ef8",
   "metadata": {
    "tags": [
     "parameters"
    ]
   },
   "outputs": [],
   "source": [
    "##use these commented parameters for testing this notebook outside of the automated loop of q1k_automated_reports.ipynb\n",
    "#subject_id = \"10062P\"\n",
    "#task_id = \"VEP\"\n",
    "#session_id = \"01\"\n",
    "#run_id = \"1\"\n",
    "#project_path = \"/project/def-emayada/q1k/experimental/HSJ/\"\n",
    "#pylossless_path = \"derivatives/pylossless/\"\n",
    "#postproc_path = \"derivatives/postproc/\"\n",
    "#et_sync = True\n",
    "\n",
    "#use these parameters when executing this notebook from the automation notebook..\n",
    "subject_id = \"\"\n",
    "task_id = \"\"\n",
    "session_id = \"\"\n",
    "run_id = \"\"\n",
    "project_path = \"/project/def-emayada/q1k/experimental/\"\n",
    "pylossless_path = \"derivatives/pylossless/\"\n",
    "sync_loss_path = \"derivatives/sync_loss/\"\n"
   ]
  },
  {
   "cell_type": "code",
   "execution_count": null,
   "id": "9450f6bf-4cb0-4e7e-bd64-f9dd953de143",
   "metadata": {},
   "outputs": [],
   "source": [
    "# import packages\n",
    "import mne\n",
    "import mne_bids\n",
    "import numpy as np\n",
    "import pandas as pd\n",
    "\n",
    "import matplotlib.pyplot as plt\n",
    "\n",
    "from pathlib import Path\n",
    "import shutil\n",
    "import pylossless as ll\n",
    "import q1k_sync_loss_tools as qslt\n",
    "import warnings\n",
    "warnings.filterwarnings('ignore')\n",
    "\n",
    "\n",
    "from matplotlib import pyplot as plt\n",
    "import plotly.express as px\n",
    "import plotly.graph_objects as go\n",
    "import plotly.offline as py\n",
    "import plotly.io as pio\n",
    "pio.renderers.default = \"plotly_mimetype+notebook\"\n"
   ]
  },
  {
   "cell_type": "code",
   "execution_count": null,
   "id": "a1debaa7-7113-444b-b478-94242fcf312e",
   "metadata": {},
   "outputs": [],
   "source": [
    "if task_id in {'VEP', 'GO', 'NSP', 'PLR', 'VS'}:\n",
    "    et_sync = True\n",
    "    print('et_sync enabled...')\n",
    "else:\n",
    "    et_sync = False\n",
    "    print('et_sync disabled...')"
   ]
  },
  {
   "cell_type": "markdown",
   "id": "d5961caa",
   "metadata": {},
   "source": [
    "# Set the parameters and read the raw and pylossless data."
   ]
  },
  {
   "cell_type": "code",
   "execution_count": null,
   "id": "5cb698e8",
   "metadata": {},
   "outputs": [],
   "source": [
    "# create the BIDS path object..\n",
    "bids_path = mne_bids.BIDSPath(\n",
    "    subject=subject_id, session=session_id, task=task_id, run=\"1\", datatype=\"eeg\", suffix=\"eeg\",root=project_path\n",
    ")\n",
    "print(bids_path)# Read the BIDS pylossless output file..\n",
    "eeg_raw = mne_bids.read_raw_bids(bids_path=bids_path, verbose=False)\n",
    "device_info=eeg_raw.info['device_info']\n",
    "\n",
    "# create the BIDS path object..\n",
    "bids_ll_path = mne_bids.BIDSPath(\n",
    "    subject=subject_id, session=session_id, task=task_id, run=\"1\", datatype=\"eeg\", suffix=\"eeg\",root=project_path + pylossless_path\n",
    ")\n",
    "#print(bids_ll_path)# Read the BIDS pylossless output file..\n",
    "#eeg_ll_raw = mne_bids.read_raw_bids(bids_path=bids_ll_path, verbose=False)\n",
    "\n",
    "ll_state = ll.LosslessPipeline()\n",
    "ll_state = ll_state.load_ll_derivative(bids_ll_path)\n",
    "eeg_ll_raw = ll_state.raw.copy()"
   ]
  },
  {
   "cell_type": "code",
   "execution_count": null,
   "id": "76a12e77-e39e-43e5-8d4f-21dc6faf2db8",
   "metadata": {},
   "outputs": [],
   "source": [
    "#attempts to overwrite data array with original unfiltered signals... \n",
    "\n",
    "#insert the original data signals into the lossles state...\n",
    "# Get the time range of raw_crop\n",
    "start_time = eeg_ll_raw.times[0]  # Start time in seconds\n",
    "end_time = eeg_ll_raw.times[-1]  # End time in seconds\n",
    "\n",
    "# Crop eeg_raw to the time range of eeg_ll_raw\n",
    "eeg_raw = eeg_raw.copy().crop(tmin=start_time, tmax=end_time)\n",
    "\n",
    "# Overwrite annotations\n",
    "eeg_raw.set_annotations(eeg_ll_raw.annotations)"
   ]
  },
  {
   "cell_type": "code",
   "execution_count": null,
   "id": "5c20dc69-b4d7-4ef4-93a8-6602a0535162",
   "metadata": {},
   "outputs": [],
   "source": [
    "print(np.unique(eeg_raw.annotations.description))"
   ]
  },
  {
   "cell_type": "code",
   "execution_count": null,
   "id": "78b0c10f-2545-4fee-9852-1dcff5116f9a",
   "metadata": {},
   "outputs": [],
   "source": [
    "eeg_raw.plot(start=0, duration=20, scalings=dict(eeg=1e-3))"
   ]
  },
  {
   "cell_type": "code",
   "execution_count": null,
   "id": "f9070a08-02b6-423d-b510-f11f11499001",
   "metadata": {},
   "outputs": [],
   "source": [
    "eeg_raw.load_data()\n",
    "eog_chans = ['E125', 'E126', 'E127', 'E128']\n",
    "eeg_raw.info['bads'].extend(eog_chans)\n",
    "eeg_raw = eeg_raw.filter(l_freq=1.0, h_freq=90.0, picks='eeg')\n",
    "eeg_raw.notch_filter(freqs=60, picks='eeg', method='fir', fir_design='firwin')"
   ]
  },
  {
   "cell_type": "code",
   "execution_count": null,
   "id": "e5e9f2b1-3450-4b0f-a8cf-7c46df981d3e",
   "metadata": {},
   "outputs": [],
   "source": [
    "eeg_raw.plot(start=0, duration=20, scalings=dict(eeg=1e-4))"
   ]
  },
  {
   "cell_type": "markdown",
   "id": "e0f4200a",
   "metadata": {},
   "source": [
    "# Interpret the annotations, apply the data selections and insert the ET signals."
   ]
  },
  {
   "cell_type": "code",
   "execution_count": null,
   "id": "8877b53c",
   "metadata": {},
   "outputs": [],
   "source": [
    "# Get the events form the annotations\n",
    "eeg_events, eeg_event_dict  = mne.events_from_annotations(eeg_raw)"
   ]
  },
  {
   "cell_type": "code",
   "execution_count": null,
   "id": "b640dea8-0d96-4cfd-917d-2966bc85b4d0",
   "metadata": {},
   "outputs": [],
   "source": [
    "# peak... at the EEG event scatter plot.. event time stamp by label index\n",
    "fig=px.scatter(x=eeg_events[:,0],y=eeg_events[:,2])\n",
    "fig.update_layout(title='Original EEG event times')\n",
    "fig.update_xaxes(title_text='Time of event(ms)')\n",
    "fig.update_yaxes(title_text='Event index')\n",
    "py.iplot(fig)\n",
    "fig.write_html(\"eeg_event_times.html\")"
   ]
  },
  {
   "cell_type": "code",
   "execution_count": null,
   "id": "70a77b6a-3abb-485a-b58d-fec4b7d0728b",
   "metadata": {},
   "outputs": [],
   "source": [
    "bids_ll_path_str = str(bids_ll_path.fpath)\n",
    "bids_ll_path_str"
   ]
  },
  {
   "cell_type": "code",
   "execution_count": null,
   "id": "2d0d4900-cdff-4d0b-83c9-228ade5fbdc6",
   "metadata": {},
   "outputs": [],
   "source": [
    "if et_sync:\n",
    "    #read the raw ET fif file from the BIDS root directory\n",
    "    bids_ll_path_str=str(bids_ll_path.fpath)\n",
    "    et_bids_path = bids_ll_path_str.replace(\".edf\", \".fif\")\n",
    "    et_bids_path = et_bids_path.replace(\"eeg\", \"et\")\n",
    "    et_bids_path = et_bids_path.replace(\"derivatives/pylossless/\", \"\")\n",
    "    print(\"et bids path: \" + et_bids_path)\n",
    "    \n",
    "    et_raw = mne.io.read_raw_fif(et_bids_path, preload=True)\n",
    "    et_sfreq = et_raw.info['sfreq'] \n",
    "\n",
    "    et_events, et_event_dict  = mne.events_from_annotations(et_raw)\n",
    "    \n",
    "    #interpolate the eye channels during blinks..\n",
    "    mne.preprocessing.eyetracking.interpolate_blinks(et_raw, match=('BAD_blink','BAD_ACQ_SKIP'),buffer=(0.05, 0.2), interpolate_gaze=True)\n",
    "    \n",
    "    #replace Nans with 0s..\n",
    "    data = et_raw.get_data()\n",
    "    data[np.isnan(data)] = 0\n",
    "    et_raw._data = data"
   ]
  },
  {
   "cell_type": "code",
   "execution_count": null,
   "id": "050c404b-0d3f-400e-adaa-d99453e3e4c7",
   "metadata": {},
   "outputs": [],
   "source": [
    "if et_sync:\n",
    "    et_raw.plot(start=0, duration=20, scalings=dict(eyegaze=1e2,pupil=1e3))"
   ]
  },
  {
   "cell_type": "code",
   "execution_count": null,
   "id": "bca41e34-99b9-4958-878d-f28584a9b65d",
   "metadata": {},
   "outputs": [],
   "source": [
    "if et_sync:\n",
    "    #get the sync_time event indexes..\n",
    "    eeg_sync_time_value = eeg_event_dict['eeg_sync_time']\n",
    "    et_sync_time_value = et_event_dict['et_sync_time']\n",
    "    # Filter rows where the third column matches the 'sync_time' value\n",
    "    eeg_syncs = eeg_events[eeg_events[:, 2] == eeg_sync_time_value]\n",
    "    et_syncs = et_events[et_events[:, 2] == et_sync_time_value]\n",
    "    #convert the event sample index to time (seconds)...\n",
    "    eeg_sfreq = eeg_raw.info['sfreq']\n",
    "    eeg_sync_times = eeg_syncs[:, 0] / eeg_sfreq\n",
    "    et_sfreq = et_raw.info['sfreq']\n",
    "    et_sync_times = et_syncs[:, 0] / et_sfreq"
   ]
  },
  {
   "cell_type": "code",
   "execution_count": null,
   "id": "804247ac-efd7-4734-8a55-8e1cfb0315b1",
   "metadata": {},
   "outputs": [],
   "source": [
    "eeg_raw.info"
   ]
  },
  {
   "cell_type": "code",
   "execution_count": null,
   "id": "cd8b404f-9554-4099-81d2-ea176b847766",
   "metadata": {},
   "outputs": [],
   "source": [
    "if et_sync:\n",
    "    et_raw.info"
   ]
  },
  {
   "cell_type": "code",
   "execution_count": null,
   "id": "b03def54-a5d1-4d7a-a18b-30e9863bcbbc",
   "metadata": {},
   "outputs": [],
   "source": [
    "if et_sync:\n",
    "    #combine the EEG and ET data..\n",
    "    eeg_raw, et_raw = qslt.eeg_et_combine(eeg_raw, et_raw, eeg_sync_times, et_sync_times, eeg_events, eeg_event_dict, et_events, et_event_dict)"
   ]
  },
  {
   "cell_type": "code",
   "execution_count": null,
   "id": "bb79cf83-4019-4ade-ac27-0c111d073685",
   "metadata": {},
   "outputs": [],
   "source": [
    "np.unique(eeg_raw.annotations.description)"
   ]
  },
  {
   "cell_type": "code",
   "execution_count": null,
   "id": "86171be6-672b-494d-82c9-8a64e1276eb3",
   "metadata": {},
   "outputs": [],
   "source": [
    "if et_sync:\n",
    "    # Define a few channel groups of interest and plot the data\\n\",\n",
    "    frontal = [\"E11\"]\n",
    "    occipital = [\"E62\"]\n",
    "    din = [\"DIN\"]\n",
    "    pupil = [\"pupil_left\"]\n",
    "    #x_pos = [\"xpos_left\"]\n",
    "    #y_pos = [\"ypos_left\"]\n",
    "\n",
    "    scale_dict = dict(eeg=1e-4, misc=1e3)\n",
    "\n",
    "    # picks must be numeric (not string) when passed to `raw.plot(..., order=)\n",
    "    picks_idx = mne.pick_channels(eeg_raw.ch_names, din + frontal + occipital + pupil, ordered=True)\n",
    "    eeg_raw.plot(start=0,duration=20,order=picks_idx, scalings=scale_dict)"
   ]
  },
  {
   "cell_type": "code",
   "execution_count": null,
   "id": "e70ec242-e06e-4a0c-9fb7-1055487b1991",
   "metadata": {},
   "outputs": [],
   "source": [
    "if et_sync:\n",
    "    # peak... at the ET event scatter plot.. event time stamp by label index\n",
    "    fig=px.scatter(x=et_events[:,0],y=et_events[:,2])\n",
    "    fig.update_layout(title='Original ET event times')\n",
    "    fig.update_xaxes(title_text='Time of event(ms)')\n",
    "    fig.update_yaxes(title_text='Event index')\n",
    "    py.iplot(fig)\n",
    "    fig.write_html(\"et_event_times.html\")"
   ]
  },
  {
   "cell_type": "code",
   "execution_count": null,
   "id": "24e51517",
   "metadata": {},
   "outputs": [],
   "source": [
    "#apply the lossless annotations to the synced EEG and ET data..\n",
    "eeg_loss_raw = qslt.apply_ll(bids_ll_path, ll_state, eeg_raw)\n",
    "eeg_loss_raw"
   ]
  },
  {
   "cell_type": "code",
   "execution_count": null,
   "id": "e870697c-c718-434e-86de-08618680324f",
   "metadata": {},
   "outputs": [],
   "source": [
    "if et_sync:\n",
    "    # Define a few channel groups of interest and plot the data\\n\",\n",
    "    frontal = [\"E11\"]\n",
    "    occipital = [\"E62\"]\n",
    "    din = [\"DIN\"]\n",
    "    pupil = [\"pupil_left\"]\n",
    "    #x_pos = [\"xpos_left\"]\n",
    "    #y_pos = [\"ypos_left\"]\n",
    "\n",
    "    #scale_dict = dict(eeg=1e-4, misc=1e3)\n",
    "    scale_dict = dict(eeg=1e-3, misc=1e3)\n",
    "\n",
    "    # picks must be numeric (not string) when passed to `raw.plot(..., order=)\n",
    "    picks_idx = mne.pick_channels(eeg_loss_raw.ch_names, din + frontal + occipital + pupil, ordered=True)\n",
    "    eeg_loss_raw.plot(start=0,duration=0,order=picks_idx, scalings=scale_dict)"
   ]
  },
  {
   "cell_type": "code",
   "execution_count": null,
   "id": "9c914092-008f-42b2-91db-77f57a6a69c9",
   "metadata": {},
   "outputs": [],
   "source": [
    "if et_sync:\n",
    "    #rename the eyegaze and pupil channel types to misc for mne-bids compatibility..\n",
    "    mapping = {\n",
    "        ch_name: 'misc'\n",
    "        for ch_name, ch_type in zip(eeg_raw.info['ch_names'], eeg_raw.get_channel_types())\n",
    "        if ch_type in ['eyegaze', 'pupil']\n",
    "    }\n",
    "\n",
    "    # Rename the channel types\n",
    "    eeg_raw.set_channel_types(mapping)\n"
   ]
  },
  {
   "cell_type": "code",
   "execution_count": null,
   "id": "2297b5cc-a589-4d12-a8bc-d3fa63d629ab",
   "metadata": {},
   "outputs": [],
   "source": [
    "#show channel types...\n",
    "channel_types = eeg_loss_raw.get_channel_types()\n",
    "print(\"Channel Types:\", channel_types)\n",
    "print(\"Channel Names:\", eeg_loss_raw.info['ch_names'])"
   ]
  },
  {
   "cell_type": "code",
   "execution_count": null,
   "id": "0971c3ad-e0a8-47ae-964d-3be7e31001e9",
   "metadata": {},
   "outputs": [],
   "source": [
    "np.unique(eeg_loss_raw.annotations.description)"
   ]
  },
  {
   "cell_type": "code",
   "execution_count": null,
   "id": "d1aa1ae4-485f-4ece-a2b8-8545319b2800",
   "metadata": {},
   "outputs": [],
   "source": [
    "eeg_loss_events, eeg_loss_event_dict  = mne.events_from_annotations(eeg_loss_raw)\n",
    "eeg_loss_events[:, 0] -= eeg_loss_raw.first_samp"
   ]
  },
  {
   "cell_type": "code",
   "execution_count": null,
   "id": "ecb6f375-ee51-4bb5-a2b3-937b2286bcde",
   "metadata": {},
   "outputs": [],
   "source": [
    "eeg_loss_event_dict"
   ]
  },
  {
   "cell_type": "code",
   "execution_count": null,
   "id": "a60c8a44-d8a4-46c6-8774-e9900468ba3b",
   "metadata": {},
   "outputs": [],
   "source": [
    "#save eeg_loss_raw..\n",
    "loss_path = project_path + pylossless_path + sync_loss_path\n",
    "eeg_bids_path = qslt.write_eeg(eeg_loss_raw, \n",
    "              eeg_loss_event_dict, \n",
    "              eeg_loss_events, \n",
    "              subject_id, \n",
    "              session_id, \n",
    "              task_id, \n",
    "              loss_path, \n",
    "              device_info)\n"
   ]
  }
 ],
 "metadata": {
  "kernelspec": {
   "display_name": "q1k_env",
   "language": "python",
   "name": "q1k_env"
  },
  "language_info": {
   "codemirror_mode": {
    "name": "ipython",
    "version": 3
   },
   "file_extension": ".py",
   "mimetype": "text/x-python",
   "name": "python",
   "nbconvert_exporter": "python",
   "pygments_lexer": "ipython3",
   "version": "3.11.5"
  }
 },
 "nbformat": 4,
 "nbformat_minor": 5
}
